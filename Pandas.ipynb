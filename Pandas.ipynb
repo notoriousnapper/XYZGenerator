{
 "cells": [
  {
   "cell_type": "code",
   "execution_count": 7,
   "metadata": {},
   "outputs": [
    {
     "name": "stdout",
     "output_type": "stream",
     "text": [
      "/Users/jesseren/anaconda3/bin/python\n",
      "Collecting zipfile\n",
      "\u001b[31m  Could not find a version that satisfies the requirement zipfile (from versions: )\u001b[0m\n",
      "\u001b[31mNo matching distribution found for zipfile\u001b[0m\n"
     ]
    }
   ],
   "source": [
    "import sys\n",
    "print(sys.executable)\n",
    "!{sys.executable} -m pip install -U zipfile"
   ]
  },
  {
   "cell_type": "code",
   "execution_count": 19,
   "metadata": {},
   "outputs": [
    {
     "ename": "SyntaxError",
     "evalue": "'return' outside function (<ipython-input-19-70add4d522e4>, line 13)",
     "output_type": "error",
     "traceback": [
      "\u001b[0;36m  File \u001b[0;32m\"<ipython-input-19-70add4d522e4>\"\u001b[0;36m, line \u001b[0;32m13\u001b[0m\n\u001b[0;31m    return\u001b[0m\n\u001b[0m    ^\u001b[0m\n\u001b[0;31mSyntaxError\u001b[0m\u001b[0;31m:\u001b[0m 'return' outside function\n"
     ]
    }
   ],
   "source": [
    "import pandas as pd\n",
    "import zipfile\n",
    "import gzip\n",
    "content = b\"Lots of content here\"\n",
    "# with gzip.open('test/file.gz', 'wb') as f:\n",
    "#     f.write(content)\n",
    "#     print(content)\n",
    "\n",
    "# import gzip\n",
    "with gzip.open('test/file.gz', 'rb') as f:\n",
    "    file_content = f.read()\n",
    "    print(file_content)\n",
    "# z = zipfile.ZipFile('test/file.gz')\n",
    "# print(pd.read_csv(z.open(\"DCCV_OCCUPATIT_Data+FootnotesLegend_175b2401-3654-4673-9e60-b300989088bb.csv\"),\n",
    "#                   sep=\"|\",\n",
    "#                   engine = \"python\"))"
   ]
  },
  {
   "cell_type": "code",
   "execution_count": null,
   "metadata": {},
   "outputs": [],
   "source": []
  },
  {
   "cell_type": "code",
   "execution_count": null,
   "metadata": {},
   "outputs": [],
   "source": []
  }
 ],
 "metadata": {
  "kernelspec": {
   "display_name": "Python 3",
   "language": "python",
   "name": "python3"
  },
  "language_info": {
   "codemirror_mode": {
    "name": "ipython",
    "version": 3
   },
   "file_extension": ".py",
   "mimetype": "text/x-python",
   "name": "python",
   "nbconvert_exporter": "python",
   "pygments_lexer": "ipython3",
   "version": "3.6.3"
  }
 },
 "nbformat": 4,
 "nbformat_minor": 2
}
