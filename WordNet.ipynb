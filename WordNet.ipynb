{
 "cells": [
  {
   "cell_type": "code",
   "execution_count": 2,
   "metadata": {},
   "outputs": [
    {
     "name": "stdout",
     "output_type": "stream",
     "text": [
      "/Users/jesseren/anaconda3/bin/python\n",
      "Requirement already up-to-date: nltk in /Users/jesseren/anaconda3/lib/python3.6/site-packages\n",
      "Requirement already up-to-date: six in /Users/jesseren/anaconda3/lib/python3.6/site-packages (from nltk)\n"
     ]
    }
   ],
   "source": [
    "import sys\n",
    "print(sys.executable)\n",
    "!{sys.executable} -m pip install -U nltk\n",
    "# Compiling C++ 11: clang++ -std=c++11 -stdlib=libc++"
   ]
  },
  {
   "cell_type": "code",
   "execution_count": 2,
   "metadata": {},
   "outputs": [],
   "source": [
    "from nltk.corpus import wordnet as wn"
   ]
  },
  {
   "cell_type": "code",
   "execution_count": 3,
   "metadata": {},
   "outputs": [
    {
     "name": "stdout",
     "output_type": "stream",
     "text": [
      "small.n.01 ['small']\n",
      "small.n.02 ['small']\n",
      "small.a.01 ['small', 'little']\n",
      "minor.s.10 ['minor', 'modest', 'small', 'small-scale', 'pocket-size', 'pocket-sized']\n",
      "little.s.03 ['little', 'small']\n",
      "small.s.04 ['small']\n",
      "humble.s.01 ['humble', 'low', 'lowly', 'modest', 'small']\n",
      "little.s.07 ['little', 'minuscule', 'small']\n",
      "little.s.05 ['little', 'small']\n",
      "small.s.08 ['small']\n",
      "modest.s.02 ['modest', 'small']\n",
      "belittled.s.01 ['belittled', 'diminished', 'small']\n",
      "small.r.01 ['small']\n"
     ]
    }
   ],
   "source": [
    "# wn.synset('soft.a.01').lemmas()\n",
    "wn.synsets('small')\n",
    "for ss in wn.synsets('small'):\n",
    "    print(ss.name(), ss.lemma_names())\n",
    "    "
   ]
  },
  {
   "cell_type": "code",
   "execution_count": 32,
   "metadata": {},
   "outputs": [
    {
     "name": "stdout",
     "output_type": "stream",
     "text": [
      "soft.a.01\n",
      "yielding readily to pressure or weight\n",
      "Synset('soft.a.01') \n",
      "\n",
      "soft.a.02\n",
      "compassionate and kind; conciliatory\n",
      "Synset('soft.a.02') \n",
      "\n",
      "soft.a.03\n",
      "(of sound) relatively low in volume\n",
      "Synset('soft.a.03') \n",
      "\n",
      "soft.a.04\n",
      "easily hurt\n",
      "Synset('delicate.s.04') \n",
      "\n",
      "soft.a.05\n",
      "produced with vibration of the vocal cords; \n",
      "Synset('voiced.a.01') \n",
      "\n",
      "soft.a.06\n",
      "not protected against attack (especially by nuclear weapons)\n",
      "Synset('soft.a.06') \n",
      "\n",
      "soft.a.07\n",
      "used chiefly as a direction or description in music\n",
      "Synset('piano.a.01') \n",
      "\n",
      "soft.a.08\n",
      "(of light) transmitted from a broad light source or reflected\n",
      "Synset('soft.a.08') \n",
      "\n",
      "soft.a.09\n",
      "(of speech sounds); produced with the back of the tongue raised toward the hard palate; characterized by a hissing or hushing sound (as `s' and `sh')\n",
      "Synset('soft.a.09') \n",
      "\n",
      "soft.a.010\n",
      "(of a commodity or market or currency) falling or likely to fall in value\n",
      "Synset('soft.s.10') \n",
      "\n",
      "soft.a.011\n",
      "using evidence not readily amenable to experimental verification or refutation\n",
      "Synset('soft.s.11') \n",
      "\n",
      "soft.a.012\n",
      "tolerant or lenient\n",
      "Synset('indulgent.s.02') \n",
      "\n",
      "soft.a.013\n",
      "soft and mild; not harsh or stern or severe\n",
      "Synset('gentle.s.01') \n",
      "\n",
      "soft.a.014\n",
      "having little impact\n",
      "Synset('easy.s.05') \n",
      "\n",
      "soft.a.015\n",
      "out of condition; not strong or robust; incapable of exertion or endurance\n",
      "Synset('soft.s.15') \n",
      "\n",
      "soft.a.016\n",
      "willing to negotiate and compromise\n",
      "Synset('soft.s.16') \n",
      "\n",
      "soft.a.017\n",
      "not burdensome or demanding; borne or done easily and without hardship\n",
      "Synset('cushy.s.01') \n",
      "\n",
      "soft.a.018\n",
      "mild and pleasant\n",
      "Synset('balmy.s.02') \n",
      "\n",
      "soft.a.019\n",
      "not brilliant or glaring\n",
      "Synset('soft.s.19') \n",
      "\n",
      "soft.a.020\n"
     ]
    }
   ],
   "source": [
    "word = 'soft.a.0'\n",
    "i = 1\n",
    "while True:\n",
    "    subWord = word + str(i)\n",
    "#     subWord.append(i)\n",
    "    print(subWord)\n",
    "    try:\n",
    "        print(wn.synset((subWord)).definition())\n",
    "        print(wn.synset((subWord)), \"\\n\")\n",
    "        i += 1\n",
    "    except:\n",
    "        break\n",
    "    \n",
    "# print(wn.synset('dog.n.01').definition())\n",
    "# .definition()"
   ]
  },
  {
   "cell_type": "code",
   "execution_count": 5,
   "metadata": {},
   "outputs": [],
   "source": [
    "word = wn.synsets('dog')"
   ]
  },
  {
   "cell_type": "code",
   "execution_count": 6,
   "metadata": {},
   "outputs": [
    {
     "data": {
      "text/plain": [
       "[Synset('dog.n.01'),\n",
       " Synset('frump.n.01'),\n",
       " Synset('dog.n.03'),\n",
       " Synset('cad.n.01'),\n",
       " Synset('frank.n.02'),\n",
       " Synset('pawl.n.01'),\n",
       " Synset('andiron.n.01'),\n",
       " Synset('chase.v.01')]"
      ]
     },
     "execution_count": 6,
     "metadata": {},
     "output_type": "execute_result"
    }
   ],
   "source": [
    "word"
   ]
  },
  {
   "cell_type": "code",
   "execution_count": 8,
   "metadata": {},
   "outputs": [
    {
     "ename": "AttributeError",
     "evalue": "'list' object has no attribute 'definition'",
     "output_type": "error",
     "traceback": [
      "\u001b[0;31m---------------------------------------------------------------------------\u001b[0m",
      "\u001b[0;31mAttributeError\u001b[0m                            Traceback (most recent call last)",
      "\u001b[0;32m<ipython-input-8-2a56d5bc6299>\u001b[0m in \u001b[0;36m<module>\u001b[0;34m()\u001b[0m\n\u001b[0;32m----> 1\u001b[0;31m \u001b[0mwn\u001b[0m\u001b[0;34m.\u001b[0m\u001b[0msynsets\u001b[0m\u001b[0;34m(\u001b[0m\u001b[0;34m'dog'\u001b[0m\u001b[0;34m,\u001b[0m \u001b[0mpos\u001b[0m\u001b[0;34m=\u001b[0m\u001b[0mwn\u001b[0m\u001b[0;34m.\u001b[0m\u001b[0mVERB\u001b[0m\u001b[0;34m)\u001b[0m\u001b[0;34m.\u001b[0m\u001b[0mdefinition\u001b[0m\u001b[0;34m(\u001b[0m\u001b[0;34m)\u001b[0m\u001b[0;34m\u001b[0m\u001b[0m\n\u001b[0m",
      "\u001b[0;31mAttributeError\u001b[0m: 'list' object has no attribute 'definition'"
     ]
    }
   ],
   "source": [
    "wn.synsets('dog', pos=wn.VERB).definition()"
   ]
  },
  {
   "cell_type": "code",
   "execution_count": null,
   "metadata": {},
   "outputs": [],
   "source": []
  }
 ],
 "metadata": {
  "kernelspec": {
   "display_name": "Python 3",
   "language": "python",
   "name": "python3"
  },
  "language_info": {
   "codemirror_mode": {
    "name": "ipython",
    "version": 3
   },
   "file_extension": ".py",
   "mimetype": "text/x-python",
   "name": "python",
   "nbconvert_exporter": "python",
   "pygments_lexer": "ipython3",
   "version": "3.6.3"
  }
 },
 "nbformat": 4,
 "nbformat_minor": 2
}
